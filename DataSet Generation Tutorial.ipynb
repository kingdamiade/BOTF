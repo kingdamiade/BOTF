{
 "cells": [
  {
   "cell_type": "markdown",
   "metadata": {},
   "source": [
    "# Generating a DataSet of Black Analytics Members\n",
    "Jupyter Notebooks gives you the flexibility to both document and execute your code in the same location.  Jupyter notebooks are also language-agnostic so you can essentially run code in any lanuguage here as long as you have enabled the necessary kernel to execute the code.  The name Jupyter is a concatenation of the languages **Ju**lia, **Pyt**hon and **R**.  I have worked with 2 of the 3 languages so far (Python, R).  These languages and Juptyer notebooks are extremely useful when performing Data Science tasks.  We will go through the process of generating a dataset of All Black Analytics Members within this notebook and outputting that result into a *csv* file format for later consumpution by any other data-processing tool.\n",
    "\n",
    "Let us first start off by understanding what type of information would we like to maintain within this dataset.  Some fields that I thought would be useful to maintain are the following:\n",
    "\n",
    "- First Name\n",
    "- Middle Initial\n",
    "- Last Name\n",
    "- Suffix Present\n",
    "- Suffix Value\n",
    "- City of Origin\n",
    "- State of Origin\n",
    "- Zipcode of Origin\n",
    "- Country of Origin\n",
    "- Profession"
   ]
  },
  {
   "cell_type": "markdown",
   "metadata": {},
   "source": [
    "As you can see the list of fields that you can the number of fields and information that you can accumulate on an individual can grow very fast!!  You may also notice that a number of fields are separated just to describe a single entity.  For example, we have **5** fields just describe a person's name. This level of separation makes it very easy to analyze the entries individually as we will see later in this tutorial.  Let us get started with some code.  This notebook is intended to be used with **Python 3**.  This will not work properly in **Python 2**."
   ]
  },
  {
   "cell_type": "markdown",
   "metadata": {},
   "source": [
    "*Python* is a general purpose programming language that is commonly used in Data Science.  Its ease of use makes it a very approachable language to learn if you are not familar with programming.  We will be using a very popular module in Data Science called **Pandas**.  Before we use the pandas module we must import it for use"
   ]
  },
  {
   "cell_type": "code",
   "execution_count": 1,
   "metadata": {
    "collapsed": true
   },
   "outputs": [],
   "source": [
    "import pandas as pd"
   ]
  },
  {
   "cell_type": "markdown",
   "metadata": {},
   "source": [
    "The *as pd* allows us to just say \"pd\" in the code instead of always typing out pandas anytime we want to call a function from it.  The important object that is a part of the pandas module is called **DataFrame**.  This is a very useful object for storing data and renders very well within Jupyter notebooks.  Let us create our DataFrame object"
   ]
  },
  {
   "cell_type": "code",
   "execution_count": 17,
   "metadata": {
    "collapsed": false
   },
   "outputs": [],
   "source": [
    "columns = ['First Name', 'Middle Initial', \"Last Name\", \"Suffix Present\", \"Suffix Name\",\n",
    "           'City of Origin', \"State of Origin\",\"Zipcode of Origin\", \"Country of Origin\",\"Profession\"]\n",
    "\n",
    "\n",
    "d = {'First Name' : ['Ransford'], 'Middle Initial': ['M'], \"Last Name\": [\"Hyman\"], \"Suffix Present\": [\"Yes\"], \"Suffix Name\":[\"Jr.\"],\n",
    "    'City of Origin': [\"Atlanta\"], \"State of Origin\":[\"Georgia\"], \"Zipcode of Origin\": [30331], \"Country of Origin\":[\"United States\"],\n",
    "    \"Profession\": [\"Software Engineer\"]}\n",
    "members = pd.DataFrame(d)"
   ]
  },
  {
   "cell_type": "markdown",
   "metadata": {},
   "source": [
    "Let us see what this data frame looks like:"
   ]
  },
  {
   "cell_type": "code",
   "execution_count": 10,
   "metadata": {
    "collapsed": false
   },
   "outputs": [
    {
     "data": {
      "text/html": [
       "<div>\n",
       "<table border=\"1\" class=\"dataframe\">\n",
       "  <thead>\n",
       "    <tr style=\"text-align: right;\">\n",
       "      <th></th>\n",
       "      <th>City of Origin</th>\n",
       "      <th>Country of Origin</th>\n",
       "      <th>First Name</th>\n",
       "      <th>Last Name</th>\n",
       "      <th>Middle Initial</th>\n",
       "      <th>Profession</th>\n",
       "      <th>State of Origin</th>\n",
       "      <th>Suffix Name</th>\n",
       "      <th>Suffix Present</th>\n",
       "      <th>Zipcode of Origin</th>\n",
       "    </tr>\n",
       "  </thead>\n",
       "  <tbody>\n",
       "    <tr>\n",
       "      <th>0</th>\n",
       "      <td>Atlanta</td>\n",
       "      <td>United States</td>\n",
       "      <td>Ransford</td>\n",
       "      <td>Hyman</td>\n",
       "      <td>M</td>\n",
       "      <td>Software Engineer</td>\n",
       "      <td>Georgia</td>\n",
       "      <td>Jr.</td>\n",
       "      <td>Yes</td>\n",
       "      <td>30331</td>\n",
       "    </tr>\n",
       "  </tbody>\n",
       "</table>\n",
       "</div>"
      ],
      "text/plain": [
       "  City of Origin Country of Origin First Name Last Name Middle Initial  \\\n",
       "0        Atlanta     United States   Ransford     Hyman              M   \n",
       "\n",
       "          Profession State of Origin Suffix Name Suffix Present  \\\n",
       "0  Software Engineer         Georgia         Jr.            Yes   \n",
       "\n",
       "   Zipcode of Origin  \n",
       "0              30331  "
      ]
     },
     "execution_count": 10,
     "metadata": {},
     "output_type": "execute_result"
    }
   ],
   "source": [
    "members"
   ]
  },
  {
   "cell_type": "markdown",
   "metadata": {},
   "source": [
    "We will add data to our variable **d** and then re-create the members DataFrame.  Typically you would fully populate the dictionary **d** and then create a DataFrame from that object.  The way that we are updating the DataFrame is just for this example."
   ]
  },
  {
   "cell_type": "code",
   "execution_count": null,
   "metadata": {
    "collapsed": true
   },
   "outputs": [],
   "source": [
    "d['First Name'].append('Arthur')\n",
    "d['Middle Initial'].append('L')\n",
    "d['Last Name'].append('Talley')\n",
    "d['Suffix Present'].append('Yes')\n",
    "d['Suffix Name'].append(\"Jr\")\n",
    "d['City of Origin'].append(\"Detroit\")\n",
    "d['State of Origin'].append('Michigan')\n",
    "d['Zipcode of Origin'].append(48219)\n",
    "d['Country of Origin'].append(\"United States\")\n",
    "d['Profession'].append(\"Finance Controller\")"
   ]
  },
  {
   "cell_type": "code",
   "execution_count": 18,
   "metadata": {
    "collapsed": false
   },
   "outputs": [],
   "source": [
    "members = pd.DataFrame(d)\n",
    "\n",
    "members"
   ]
  },
  {
   "cell_type": "markdown",
   "metadata": {},
   "source": [
    "Now it is your turn!! Enter your information in the cell below just like I have done in the example above:"
   ]
  },
  {
   "cell_type": "code",
   "execution_count": 21,
   "metadata": {
    "collapsed": true
   },
   "outputs": [],
   "source": [
    "#Enter your data here below this line\n"
   ]
  },
  {
   "cell_type": "markdown",
   "metadata": {},
   "source": [
    "Now let us see if the information that you have entered generated the correct DataFrame.  Run the cell below by clicking **Shift + Enter** on the cell"
   ]
  },
  {
   "cell_type": "code",
   "execution_count": 22,
   "metadata": {
    "collapsed": false
   },
   "outputs": [
    {
     "data": {
      "text/html": [
       "<div>\n",
       "<table border=\"1\" class=\"dataframe\">\n",
       "  <thead>\n",
       "    <tr style=\"text-align: right;\">\n",
       "      <th></th>\n",
       "      <th>City of Origin</th>\n",
       "      <th>Country of Origin</th>\n",
       "      <th>First Name</th>\n",
       "      <th>Last Name</th>\n",
       "      <th>Middle Initial</th>\n",
       "      <th>Profession</th>\n",
       "      <th>State of Origin</th>\n",
       "      <th>Suffix Name</th>\n",
       "      <th>Suffix Present</th>\n",
       "      <th>Zipcode of Origin</th>\n",
       "    </tr>\n",
       "  </thead>\n",
       "  <tbody>\n",
       "    <tr>\n",
       "      <th>0</th>\n",
       "      <td>Atlanta</td>\n",
       "      <td>United States</td>\n",
       "      <td>Ransford</td>\n",
       "      <td>Hyman</td>\n",
       "      <td>M</td>\n",
       "      <td>Software Engineer</td>\n",
       "      <td>Georgia</td>\n",
       "      <td>Jr.</td>\n",
       "      <td>Yes</td>\n",
       "      <td>30331</td>\n",
       "    </tr>\n",
       "    <tr>\n",
       "      <th>1</th>\n",
       "      <td>Detroit</td>\n",
       "      <td>United States</td>\n",
       "      <td>Arthur</td>\n",
       "      <td>Talley</td>\n",
       "      <td>L</td>\n",
       "      <td>Finance Controller</td>\n",
       "      <td>Michigan</td>\n",
       "      <td>Jr</td>\n",
       "      <td>Yes</td>\n",
       "      <td>48219</td>\n",
       "    </tr>\n",
       "  </tbody>\n",
       "</table>\n",
       "</div>"
      ],
      "text/plain": [
       "  City of Origin Country of Origin First Name Last Name Middle Initial  \\\n",
       "0        Atlanta     United States   Ransford     Hyman              M   \n",
       "1        Detroit     United States     Arthur    Talley              L   \n",
       "\n",
       "           Profession State of Origin Suffix Name Suffix Present  \\\n",
       "0   Software Engineer         Georgia         Jr.            Yes   \n",
       "1  Finance Controller        Michigan          Jr            Yes   \n",
       "\n",
       "   Zipcode of Origin  \n",
       "0              30331  \n",
       "1              48219  "
      ]
     },
     "execution_count": 22,
     "metadata": {},
     "output_type": "execute_result"
    }
   ],
   "source": [
    "members = pd.DataFrame(d)\n",
    "members"
   ]
  },
  {
   "cell_type": "markdown",
   "metadata": {},
   "source": [
    "**Excellent!!!** Now that you have made it this far, Enter the other members' information"
   ]
  },
  {
   "cell_type": "code",
   "execution_count": null,
   "metadata": {
    "collapsed": true
   },
   "outputs": [],
   "source": [
    "#Enter Kingsley's information here"
   ]
  },
  {
   "cell_type": "code",
   "execution_count": null,
   "metadata": {
    "collapsed": true
   },
   "outputs": [],
   "source": [
    "#Enter Mike R information here"
   ]
  },
  {
   "cell_type": "code",
   "execution_count": null,
   "metadata": {
    "collapsed": true
   },
   "outputs": [],
   "source": [
    "#Enter Darrell's information here"
   ]
  },
  {
   "cell_type": "code",
   "execution_count": null,
   "metadata": {
    "collapsed": true
   },
   "outputs": [],
   "source": [
    "#Enter Vick's information here"
   ]
  },
  {
   "cell_type": "markdown",
   "metadata": {},
   "source": [
    "Now that we have all the information that we will need for our dataset, let us create our final DataFrame.  Enter the code below that will create the DataFrame in the *members* variable and print the DataFrame"
   ]
  },
  {
   "cell_type": "code",
   "execution_count": null,
   "metadata": {
    "collapsed": true
   },
   "outputs": [],
   "source": [
    "#Enter the code here"
   ]
  },
  {
   "cell_type": "markdown",
   "metadata": {},
   "source": [
    "Now that we have created the Dataframe, we can now create the necessary files to place it in the desired file format.  Below I will create a *csv* file for our dataFrame."
   ]
  },
  {
   "cell_type": "code",
   "execution_count": null,
   "metadata": {
    "collapsed": true
   },
   "outputs": [],
   "source": [
    "members.to_csv(\"botf.csv\")"
   ]
  },
  {
   "cell_type": "markdown",
   "metadata": {},
   "source": [
    "And Since your name is Jason and Brother Kings is so gung-ho on the JSON format, lets create a JSON file for him to play around with"
   ]
  },
  {
   "cell_type": "code",
   "execution_count": null,
   "metadata": {
    "collapsed": true
   },
   "outputs": [],
   "source": [
    "members.to_json(\"botf.json\")"
   ]
  },
  {
   "cell_type": "code",
   "execution_count": null,
   "metadata": {
    "collapsed": true
   },
   "outputs": [],
   "source": []
  },
  {
   "cell_type": "markdown",
   "metadata": {},
   "source": [
    "***And there you have it!!! Congratulations on creating your first DataSet in Python!! Job Well Done!!! You will be a Data Scientist in no time!!***"
   ]
  }
 ],
 "metadata": {
  "kernelspec": {
   "display_name": "Python 3",
   "language": "python",
   "name": "python3"
  },
  "language_info": {
   "codemirror_mode": {
    "name": "ipython",
    "version": 3
   },
   "file_extension": ".py",
   "mimetype": "text/x-python",
   "name": "python",
   "nbconvert_exporter": "python",
   "pygments_lexer": "ipython3",
   "version": "3.6.0"
  }
 },
 "nbformat": 4,
 "nbformat_minor": 2
}
